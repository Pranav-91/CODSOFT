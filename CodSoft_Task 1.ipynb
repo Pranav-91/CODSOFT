# Rule-based chatbot for university

# Importing modules

import re
#from nltk.corpus import wordnet
import nltk 
nltk.download('wordnet')

# Building a list of keywords

list_words=['hello','timings','fee','location']
list_syn={}
for word in list_words:
    synonyms=[]
    for syn in wordnet.synsets(word):
        for lem in syn.lemmas():
            lem_name = re.sub('[^a-zA-Z0-9 \n\.]', ' ', lem.name())
            synonyms.append(lem_name)
    list_syn[word]=set(synonyms)
print (list_syn)

# Building dictionary of Intents & Keywords

keywords={}
keywords_dict={}
keywords['greet']=[]
for synonym in list(list_syn['hello']):
    keywords['greet'].append('.*\\b'+synonym+'\\b.*')

keywords['timings']=[]
for synonym in list(list_syn['timings']):
    keywords['timings'].append('.*\\b'+synonym+'\\b.*')

keywords['fee']=[]
for synonym in list(list_syn['fee']):
    keywords['fee'].append('.*\\b'+synonym+'\\b.*')

keywords['location']=[]
for synonym in list(list_syn['location']):
    keywords['location'].append('.*\\b'+synonym+'\\b.*')

for intent, keys in keywords.items():
    keywords_dict[intent]=re.compile('|'.join(keys))
print (keywords_dict)

# Defining responses

responses={
    'greet':'Welcome to Presidency University. How can I help you?',
    'timings':'We are open from 9AM to 5PM, Monday to Friday. We are closed on weekends and public holidays.',
    'fee':'The cost will be around 80,000 to 95,000 per year',
    'location':'The campus is located at Itgalpura, Yelahanka in Bangalore',
    'fallback':'I dont quite understand. Could you repeat that?',
}

# Generating responses

print ("Welcome to Presidency University. How may I help you?")
while (True):
    user_input = input().lower()
    if user_input == 'quit':
        print ("Thank you for visiting.")
        break
    matched_intent = None
    for intent,pattern in keywords_dict.items():
        if re.search(pattern, user_input):
            matched_intent=intent
    key='fallback'
    if matched_intent in responses:
        key = matched_intent
    print (responses[key])
