{
  "nbformat": 4,
  "nbformat_minor": 0,
  "metadata": {
    "colab": {
      "provenance": []
    },
    "kernelspec": {
      "name": "python3",
      "display_name": "Python 3"
    },
    "language_info": {
      "name": "python"
    }
  },
  "cells": [
    {
      "cell_type": "markdown",
      "source": [
        "# Rule-based chatbot for university"
      ],
      "metadata": {
        "id": "InjRf1xrMnTf"
      }
    },
    {
      "cell_type": "markdown",
      "source": [
        "# Importing modules"
      ],
      "metadata": {
        "id": "uOc_uewwai2C"
      }
    },
    {
      "cell_type": "code",
      "execution_count": 3,
      "metadata": {
        "id": "1b1RMCT9YcB4"
      },
      "outputs": [],
      "source": [
        "import re\n",
        "from nltk.corpus import wordnet\n",
        "#import nltk\n",
        "#nltk.download('wordnet')"
      ]
    },
    {
      "cell_type": "markdown",
      "source": [
        "# Building a list of keywords"
      ],
      "metadata": {
        "id": "j7x70hTUaY1M"
      }
    },
    {
      "cell_type": "code",
      "source": [
        "list_words=['hello','timings','fee','location']\n",
        "list_syn={}\n",
        "for word in list_words:\n",
        "    synonyms=[]\n",
        "    for syn in wordnet.synsets(word):\n",
        "        for lem in syn.lemmas():\n",
        "            lem_name = re.sub('[^a-zA-Z0-9 \\n\\.]', ' ', lem.name())\n",
        "            synonyms.append(lem_name)\n",
        "    list_syn[word]=set(synonyms)\n",
        "print (list_syn)"
      ],
      "metadata": {
        "colab": {
          "base_uri": "https://localhost:8080/"
        },
        "id": "7tKJ1awRaT2X",
        "outputId": "2b578dfb-b64c-47fb-cf3a-a4995df0cdd0"
      },
      "execution_count": 4,
      "outputs": [
        {
          "output_type": "stream",
          "name": "stdout",
          "text": [
            "{'hello': {'hullo', 'howdy', 'hi', 'how do you do', 'hello'}, 'timings': {'time', 'timing', 'clock'}, 'fee': {'tip', 'fee', 'bung'}, 'location': {'emplacement', 'positioning', 'fix', 'localization', 'position', 'locating', 'placement', 'localisation', 'location'}}\n"
          ]
        }
      ]
    },
    {
      "cell_type": "markdown",
      "source": [
        "# Building dictionary of Intents & Keywords"
      ],
      "metadata": {
        "id": "nNMxGhnTaz_u"
      }
    },
    {
      "cell_type": "code",
      "source": [
        "keywords={}\n",
        "keywords_dict={}\n",
        "keywords['greet']=[]\n",
        "for synonym in list(list_syn['hello']):\n",
        "    keywords['greet'].append('.*\\\\b'+synonym+'\\\\b.*')\n",
        "\n",
        "keywords['timings']=[]\n",
        "for synonym in list(list_syn['timings']):\n",
        "    keywords['timings'].append('.*\\\\b'+synonym+'\\\\b.*')\n",
        "\n",
        "keywords['fee']=[]\n",
        "for synonym in list(list_syn['fee']):\n",
        "    keywords['fee'].append('.*\\\\b'+synonym+'\\\\b.*')\n",
        "\n",
        "keywords['location']=[]\n",
        "for synonym in list(list_syn['location']):\n",
        "    keywords['location'].append('.*\\\\b'+synonym+'\\\\b.*')\n",
        "\n",
        "for intent, keys in keywords.items():\n",
        "    keywords_dict[intent]=re.compile('|'.join(keys))\n",
        "print (keywords_dict)"
      ],
      "metadata": {
        "id": "aO5CJypnayQg",
        "colab": {
          "base_uri": "https://localhost:8080/"
        },
        "outputId": "dd53ddcf-7fa7-427e-ef81-21db63861fe5"
      },
      "execution_count": 5,
      "outputs": [
        {
          "output_type": "stream",
          "name": "stdout",
          "text": [
            "{'greet': re.compile('.*\\\\bhullo\\\\b.*|.*\\\\bhowdy\\\\b.*|.*\\\\bhi\\\\b.*|.*\\\\bhow do you do\\\\b.*|.*\\\\bhello\\\\b.*'), 'timings': re.compile('.*\\\\btime\\\\b.*|.*\\\\btiming\\\\b.*|.*\\\\bclock\\\\b.*'), 'fee': re.compile('.*\\\\btip\\\\b.*|.*\\\\bfee\\\\b.*|.*\\\\bbung\\\\b.*'), 'location': re.compile('.*\\\\bemplacement\\\\b.*|.*\\\\bpositioning\\\\b.*|.*\\\\bfix\\\\b.*|.*\\\\blocalization\\\\b.*|.*\\\\bposition\\\\b.*|.*\\\\blocating\\\\b.*|.*\\\\bplacement\\\\b.*|.*\\\\blocalisation\\\\b.*|.*\\\\blocation\\\\b.*')}\n"
          ]
        }
      ]
    },
    {
      "cell_type": "markdown",
      "source": [
        "# Defining responses"
      ],
      "metadata": {
        "id": "n2FatA_Vb7Kd"
      }
    },
    {
      "cell_type": "code",
      "source": [
        "responses={\n",
        "    'greet':'Welcome to Presidency University. How can I help you?',\n",
        "    'timings':'We are open from 9AM to 5PM, Monday to Friday. We are closed on weekends and public holidays.',\n",
        "    'fee':'The cost will be around 80,000 to 95,000 per year',\n",
        "    'location':'The campus is located at Itgalpura, Yelahanka in Bangalore',\n",
        "    'fallback':'I dont quite understand. Could you repeat that?',\n",
        "}"
      ],
      "metadata": {
        "id": "S-V-V-ITb3P9"
      },
      "execution_count": 6,
      "outputs": []
    },
    {
      "cell_type": "markdown",
      "source": [
        "# Generating responses"
      ],
      "metadata": {
        "id": "w32NkXVqcCWv"
      }
    },
    {
      "cell_type": "code",
      "source": [
        "print (\"Welcome to Presidency University. How may I help you?\")\n",
        "while (True):\n",
        "    user_input = input().lower()\n",
        "    if user_input == 'quit':\n",
        "        print (\"Thank you for visiting.\")\n",
        "        break\n",
        "    matched_intent = None\n",
        "    for intent,pattern in keywords_dict.items():\n",
        "        if re.search(pattern, user_input):\n",
        "            matched_intent=intent\n",
        "    key='fallback'\n",
        "    if matched_intent in responses:\n",
        "        key = matched_intent\n",
        "    print (responses[key])"
      ],
      "metadata": {
        "id": "asifdZ1lcEb1",
        "colab": {
          "base_uri": "https://localhost:8080/"
        },
        "outputId": "c19fddb7-e66d-487e-9fae-692623a9f239"
      },
      "execution_count": 7,
      "outputs": [
        {
          "output_type": "stream",
          "name": "stdout",
          "text": [
            "Welcome to Presidency University. How may I help you?\n",
            "Hi\n",
            "Welcome to Presidency University. How can I help you?\n",
            "What is the timing of the university?\n",
            "We are open from 9AM to 5PM, Monday to Friday. We are closed on weekends and public holidays.\n",
            "What is the fee structure?\n",
            "The cost will be around 80,000 to 95,000 per year\n",
            "What is the location of the campus?\n",
            "The campus is located at Itgalpura, Yelahanka in Bangalore\n",
            "quit\n",
            "Thank you for visiting.\n"
          ]
        }
      ]
    }
  ]
}