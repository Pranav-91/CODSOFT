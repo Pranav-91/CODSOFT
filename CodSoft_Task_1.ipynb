{
  "nbformat": 4,
  "nbformat_minor": 0,
  "metadata": {
    "colab": {
      "provenance": []
    },
    "kernelspec": {
      "name": "python3",
      "display_name": "Python 3"
    },
    "language_info": {
      "name": "python"
    }
  },
  "cells": [
    {
      "cell_type": "markdown",
      "source": [
        "# Rule-based chatbot for university"
      ],
      "metadata": {
        "id": "InjRf1xrMnTf"
      }
    },
    {
      "cell_type": "markdown",
      "source": [
        "# Importing modules"
      ],
      "metadata": {
        "id": "uOc_uewwai2C"
      }
    },
    {
      "cell_type": "code",
      "execution_count": null,
      "metadata": {
        "id": "1b1RMCT9YcB4",
        "colab": {
          "base_uri": "https://localhost:8080/"
        },
        "outputId": "8e903c55-5ef7-4d60-a452-b354147f4fb9"
      },
      "outputs": [
        {
          "output_type": "stream",
          "name": "stderr",
          "text": [
            "[nltk_data] Downloading package wordnet to /root/nltk_data...\n"
          ]
        },
        {
          "output_type": "execute_result",
          "data": {
            "text/plain": [
              "True"
            ]
          },
          "metadata": {},
          "execution_count": 1
        }
      ],
      "source": [
        "import re\n",
        "#from nltk.corpus import wordnet\n",
        "import nltk\n",
        "nltk.download('wordnet')"
      ]
    },
    {
      "cell_type": "markdown",
      "source": [
        "# Building a list of keywords"
      ],
      "metadata": {
        "id": "j7x70hTUaY1M"
      }
    },
    {
      "cell_type": "code",
      "source": [
        "list_words=['hello','timings','fee','location']\n",
        "list_syn={}\n",
        "for word in list_words:\n",
        "    synonyms=[]\n",
        "    for syn in wordnet.synsets(word):\n",
        "        for lem in syn.lemmas():\n",
        "            lem_name = re.sub('[^a-zA-Z0-9 \\n\\.]', ' ', lem.name())\n",
        "            synonyms.append(lem_name)\n",
        "    list_syn[word]=set(synonyms)\n",
        "print (list_syn)"
      ],
      "metadata": {
        "colab": {
          "base_uri": "https://localhost:8080/",
          "height": 245
        },
        "id": "7tKJ1awRaT2X",
        "outputId": "13e221ab-8926-4cf4-a2bb-de825c3ff72a"
      },
      "execution_count": null,
      "outputs": [
        {
          "output_type": "error",
          "ename": "NameError",
          "evalue": "ignored",
          "traceback": [
            "\u001b[0;31m---------------------------------------------------------------------------\u001b[0m",
            "\u001b[0;31mNameError\u001b[0m                                 Traceback (most recent call last)",
            "\u001b[0;32m<ipython-input-2-cff5c6e83bef>\u001b[0m in \u001b[0;36m<cell line: 3>\u001b[0;34m()\u001b[0m\n\u001b[1;32m      3\u001b[0m \u001b[0;32mfor\u001b[0m \u001b[0mword\u001b[0m \u001b[0;32min\u001b[0m \u001b[0mlist_words\u001b[0m\u001b[0;34m:\u001b[0m\u001b[0;34m\u001b[0m\u001b[0;34m\u001b[0m\u001b[0m\n\u001b[1;32m      4\u001b[0m     \u001b[0msynonyms\u001b[0m\u001b[0;34m=\u001b[0m\u001b[0;34m[\u001b[0m\u001b[0;34m]\u001b[0m\u001b[0;34m\u001b[0m\u001b[0;34m\u001b[0m\u001b[0m\n\u001b[0;32m----> 5\u001b[0;31m     \u001b[0;32mfor\u001b[0m \u001b[0msyn\u001b[0m \u001b[0;32min\u001b[0m \u001b[0mwordnet\u001b[0m\u001b[0;34m.\u001b[0m\u001b[0msynsets\u001b[0m\u001b[0;34m(\u001b[0m\u001b[0mword\u001b[0m\u001b[0;34m)\u001b[0m\u001b[0;34m:\u001b[0m\u001b[0;34m\u001b[0m\u001b[0;34m\u001b[0m\u001b[0m\n\u001b[0m\u001b[1;32m      6\u001b[0m         \u001b[0;32mfor\u001b[0m \u001b[0mlem\u001b[0m \u001b[0;32min\u001b[0m \u001b[0msyn\u001b[0m\u001b[0;34m.\u001b[0m\u001b[0mlemmas\u001b[0m\u001b[0;34m(\u001b[0m\u001b[0;34m)\u001b[0m\u001b[0;34m:\u001b[0m\u001b[0;34m\u001b[0m\u001b[0;34m\u001b[0m\u001b[0m\n\u001b[1;32m      7\u001b[0m             \u001b[0mlem_name\u001b[0m \u001b[0;34m=\u001b[0m \u001b[0mre\u001b[0m\u001b[0;34m.\u001b[0m\u001b[0msub\u001b[0m\u001b[0;34m(\u001b[0m\u001b[0;34m'[^a-zA-Z0-9 \\n\\.]'\u001b[0m\u001b[0;34m,\u001b[0m \u001b[0;34m' '\u001b[0m\u001b[0;34m,\u001b[0m \u001b[0mlem\u001b[0m\u001b[0;34m.\u001b[0m\u001b[0mname\u001b[0m\u001b[0;34m(\u001b[0m\u001b[0;34m)\u001b[0m\u001b[0;34m)\u001b[0m\u001b[0;34m\u001b[0m\u001b[0;34m\u001b[0m\u001b[0m\n",
            "\u001b[0;31mNameError\u001b[0m: name 'wordnet' is not defined"
          ]
        }
      ]
    },
    {
      "cell_type": "markdown",
      "source": [
        "# Building dictionary of Intents & Keywords"
      ],
      "metadata": {
        "id": "nNMxGhnTaz_u"
      }
    },
    {
      "cell_type": "code",
      "source": [
        "keywords={}\n",
        "keywords_dict={}\n",
        "keywords['greet']=[]\n",
        "for synonym in list(list_syn['hello']):\n",
        "    keywords['greet'].append('.*\\\\b'+synonym+'\\\\b.*')\n",
        "\n",
        "keywords['timings']=[]\n",
        "for synonym in list(list_syn['timings']):\n",
        "    keywords['timings'].append('.*\\\\b'+synonym+'\\\\b.*')\n",
        "\n",
        "keywords['fee']=[]\n",
        "for synonym in list(list_syn['fee']):\n",
        "    keywords['fee'].append('.*\\\\b'+synonym+'\\\\b.*')\n",
        "\n",
        "keywords['location']=[]\n",
        "for synonym in list(list_syn['location']):\n",
        "    keywords['location'].append('.*\\\\b'+synonym+'\\\\b.*')\n",
        "\n",
        "for intent, keys in keywords.items():\n",
        "    keywords_dict[intent]=re.compile('|'.join(keys))\n",
        "print (keywords_dict)"
      ],
      "metadata": {
        "id": "aO5CJypnayQg"
      },
      "execution_count": null,
      "outputs": []
    },
    {
      "cell_type": "markdown",
      "source": [
        "# Defining responses"
      ],
      "metadata": {
        "id": "n2FatA_Vb7Kd"
      }
    },
    {
      "cell_type": "code",
      "source": [
        "responses={\n",
        "    'greet':'Welcome to Presidency University. How can I help you?',\n",
        "    'timings':'We are open from 9AM to 5PM, Monday to Friday. We are closed on weekends and public holidays.',\n",
        "    'fee':'The cost will be around 80,000 to 95,000 per year',\n",
        "    'location':'The campus is located at Itgalpura, Yelahanka in Bangalore',\n",
        "    'fallback':'I dont quite understand. Could you repeat that?',\n",
        "}"
      ],
      "metadata": {
        "id": "S-V-V-ITb3P9"
      },
      "execution_count": null,
      "outputs": []
    },
    {
      "cell_type": "markdown",
      "source": [
        "# Generating responses"
      ],
      "metadata": {
        "id": "w32NkXVqcCWv"
      }
    },
    {
      "cell_type": "code",
      "source": [
        "print (\"Welcome to Presidency University. How may I help you?\")\n",
        "while (True):\n",
        "    user_input = input().lower()\n",
        "    if user_input == 'quit':\n",
        "        print (\"Thank you for visiting.\")\n",
        "        break\n",
        "    matched_intent = None\n",
        "    for intent,pattern in keywords_dict.items():\n",
        "        if re.search(pattern, user_input):\n",
        "            matched_intent=intent\n",
        "    key='fallback'\n",
        "    if matched_intent in responses:\n",
        "        key = matched_intent\n",
        "    print (responses[key])"
      ],
      "metadata": {
        "id": "asifdZ1lcEb1"
      },
      "execution_count": null,
      "outputs": []
    }
  ]
}